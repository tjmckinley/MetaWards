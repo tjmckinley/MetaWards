{
 "cells": [
  {
   "cell_type": "markdown",
   "metadata": {},
   "source": [
    "# Viewing output/results.csv.bz2\n",
    "\n",
    "This notebook is used to view the data in output/results.csv.bz2 which is produced by [metawards](https://metawards.org). This notebook is described in the [metawards tutorial here](https://metawards.org/tutorial/part01/02_repeating.html).\n",
    "\n",
    "We need to start this notebook by importing pandas and matplotlib"
   ]
  },
  {
   "cell_type": "code",
   "execution_count": null,
   "metadata": {},
   "outputs": [],
   "source": [
    "import pandas as pd\n",
    "import matplotlib.pyplot as plt"
   ]
  },
  {
   "cell_type": "markdown",
   "metadata": {},
   "source": [
    "Next, read the results into a pandas dataframe"
   ]
  },
  {
   "cell_type": "code",
   "execution_count": null,
   "metadata": {},
   "outputs": [],
   "source": [
    "df = pd.read_csv(\"output/results.csv.bz2\")"
   ]
  },
  {
   "cell_type": "markdown",
   "metadata": {},
   "source": [
    "This is a table that contains the data for four repeats of a *model run* simulating an outbreak of the lurgy that started in London.\n",
    "\n",
    "The columns represent the repeat number, day within the outbreak, date, and the values of the **S**, **E**, **I**, **R** and **IW** parameters, \n",
    "[as described here](https://metawards.github.io/MetaWards/tutorial/part01/02_repeating.html)."
   ]
  },
  {
   "cell_type": "code",
   "execution_count": null,
   "metadata": {},
   "outputs": [],
   "source": [
    "df"
   ]
  },
  {
   "cell_type": "markdown",
   "metadata": {},
   "source": [
    "Our first plot will be four graphs, one for each of E, I, IW and R. The data is pivoted around the 'date' column, and grouped using the value of the 'repeat' column. This is performed for each of the 'E', 'I', 'IW' and 'R' columns in turn, e.g. for 'E', this results in a dataframe that is indexed by 'date', with four columns of 'E', one for each of the four repeats.\n",
    "\n",
    "This is then plotted into a 2-by-2 graph grid that has been setup in matplotlib.\n",
    "\n",
    "The remaining lines set the title, rotate the x-axis labels by 90 degrees and set the y-axis label to 'Population'.\n",
    "\n",
    "Finally we save the plot to a file called 'overview.pdf'. Note that you can choose a different format by changing the file extension."
   ]
  },
  {
   "cell_type": "code",
   "execution_count": null,
   "metadata": {},
   "outputs": [],
   "source": [
    "fig, axes = plt.subplots(nrows=2, ncols=2, figsize=(10,10))\n",
    "\n",
    "i = 0\n",
    "j = 0\n",
    "\n",
    "for column in [\"E\", \"I\", \"IW\", \"R\"]:\n",
    "    ax = df.pivot(index=\"date\", columns=\"repeat\", values=column).plot.line(ax=axes[i][j])\n",
    "    ax.tick_params('x', labelrotation=90) \n",
    "    ax.get_legend().remove()\n",
    "    ax.set_title(column)\n",
    "    ax.set_ylabel(\"Population\")\n",
    "    \n",
    "    j += 1\n",
    "    if j == 2:\n",
    "        j = 0\n",
    "        i += 1\n",
    "\n",
    "fig.tight_layout(pad=1)\n",
    "        \n",
    "plt.show()\n",
    "fig.savefig(\"overview.pdf\")"
   ]
  },
  {
   "cell_type": "markdown",
   "metadata": {},
   "source": [
    "Next we will calculate the mean and standard deviation of each of the E, I, IW and R columns for each day. This can be achieved using the 'groupby' function to group entries together that have the same value in a column. Thus 'groupby(\"date\")' will group all columns together that have the same date. The '.mean()' function takes the mean average of those columns, while the '.std()' function calculates the normalised standard deviation.\n",
    "\n",
    "We can then plot each of the four columns into a pre-prepared 2-by-2 graph grid, using the same matplotlib function as above to arrange the graph, set the axis labels etc. Finally, we save the figure to a file called 'average.pdf'.\n",
    "\n",
    "Note that we are using mean and standard deviation to get a rough view of the data. Better statistical methods should be used to gain proper insight."
   ]
  },
  {
   "cell_type": "code",
   "execution_count": null,
   "metadata": {},
   "outputs": [],
   "source": [
    "fig, axes = plt.subplots(nrows=2, ncols=2, figsize=(10,10))\n",
    "\n",
    "mean_average = df.groupby(\"date\").mean()\n",
    "stddev = df.groupby(\"date\").std()\n",
    "\n",
    "i = 0\n",
    "j = 0\n",
    "\n",
    "for column in [\"E\", \"I\", \"IW\", \"R\"]:\n",
    "    ax = mean_average.plot.line(y=column, yerr=stddev[column], ax=axes[i][j])\n",
    "    ax.tick_params('x', labelrotation=90) \n",
    "    ax.get_legend().remove()\n",
    "    ax.set_title(column)\n",
    "    ax.set_ylabel(\"Population\")\n",
    "    \n",
    "    j += 1\n",
    "    if j == 2:\n",
    "        j = 0\n",
    "        i += 1\n",
    "\n",
    "fig.tight_layout(pad=1)\n",
    "        \n",
    "plt.show()\n",
    "fig.savefig(\"average.pdf\")"
   ]
  },
  {
   "cell_type": "code",
   "execution_count": null,
   "metadata": {},
   "outputs": [],
   "source": []
  }
 ],
 "metadata": {
  "kernelspec": {
   "display_name": "Python 3",
   "language": "python",
   "name": "python3"
  },
  "language_info": {
   "codemirror_mode": {
    "name": "ipython",
    "version": 3
   },
   "file_extension": ".py",
   "mimetype": "text/x-python",
   "name": "python",
   "nbconvert_exporter": "python",
   "pygments_lexer": "ipython3",
   "version": "3.7.4"
  }
 },
 "nbformat": 4,
 "nbformat_minor": 2
}