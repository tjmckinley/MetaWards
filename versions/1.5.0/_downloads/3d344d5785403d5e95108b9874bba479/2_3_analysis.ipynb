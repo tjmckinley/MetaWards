{
 "cells": [
  {
   "cell_type": "markdown",
   "metadata": {},
   "source": [
    "# Analysing a parameter sweep\n",
    "\n",
    "This notebook is used to view the data in output/results.csv.bz2 which is produced by [metawards](https://metawards.org). This notebook is described in the [metawards tutorial here](https://metawards.org/tutorial/part02/03_analysis.html).\n",
    "\n",
    "We start this notebook by importing metawards.analysis and using that to import pandas and matplotlib"
   ]
  },
  {
   "cell_type": "code",
   "execution_count": null,
   "metadata": {},
   "outputs": [],
   "source": [
    "from metawards.analysis import import_graphics_modules\n",
    "pd, plt = import_graphics_modules()\n",
    "import os"
   ]
  },
  {
   "cell_type": "markdown",
   "metadata": {},
   "source": [
    "Next, read the results into a pandas dataframe"
   ]
  },
  {
   "cell_type": "code",
   "execution_count": null,
   "metadata": {},
   "outputs": [],
   "source": [
    "results_csv = \"output/results.csv.bz2\"\n",
    "df = pd.read_csv(results_csv)"
   ]
  },
  {
   "cell_type": "markdown",
   "metadata": {},
   "source": [
    "This table contains the results from performing a parameter sweep on the **beta[2]** and **too_ill_to_move[2]** parameters for our experimental lurgy2 disease model."
   ]
  },
  {
   "cell_type": "code",
   "execution_count": null,
   "metadata": {},
   "outputs": [],
   "source": [
    "df"
   ]
  },
  {
   "cell_type": "markdown",
   "metadata": {},
   "source": [
    "Unlike before, we now have several runs with different values of adjustable parameters.\n",
    "This means that we first need to group by fingerprint before we can group by repeat. Lets do this one fingerprint at a time, meaning we need to get a list of unique fingerprints..."
   ]
  },
  {
   "cell_type": "code",
   "execution_count": null,
   "metadata": {},
   "outputs": [],
   "source": [
    "fingerprints = df[\"fingerprint\"].unique()\n",
    "print(fingerprints)"
   ]
  },
  {
   "cell_type": "markdown",
   "metadata": {},
   "source": [
    "The plotting functions we used before have been copied into metawards.analysis, and are available to us as `create_average_plot` and `create_overview_plot`. Let's now import these and use them to draw the graphs..."
   ]
  },
  {
   "cell_type": "code",
   "execution_count": null,
   "metadata": {},
   "outputs": [],
   "source": [
    "from metawards.analysis import create_average_plot, create_overview_plot"
   ]
  },
  {
   "cell_type": "markdown",
   "metadata": {},
   "source": [
    "We can now loop through the fingerprints and slice the dataframe so that it only contains the results for each fingerprint. The resulting dataframe can then be analysed using create_average_plot and create_overview_plot as before. We will save each figure to a file that is named according to the fingerprint"
   ]
  },
  {
   "cell_type": "code",
   "execution_count": null,
   "metadata": {},
   "outputs": [],
   "source": [
    "outdir = os.path.dirname(results_csv)\n",
    "\n",
    "for fingerprint in fingerprints:\n",
    "    df2 = df[df[\"fingerprint\"] == fingerprint]\n",
    "    print(f\"Overview graph for fingerprint {fingerprint}\")\n",
    "    fig = create_overview_plot(df2)\n",
    "    plt.show()\n",
    "    filename = os.path.join(outdir, f\"overview_{fingerprint}.pdf\")\n",
    "    print(f\"Saving to file {filename}\")\n",
    "    fig.savefig(filename)\n",
    "    "
   ]
  },
  {
   "cell_type": "markdown",
   "metadata": {},
   "source": [
    "Do the same for the average plots - we don't need this if the number of repeats is less than 2."
   ]
  },
  {
   "cell_type": "code",
   "execution_count": null,
   "metadata": {},
   "outputs": [],
   "source": [
    "outdir = os.path.dirname(results_csv)\n",
    "\n",
    "for fingerprint in fingerprints:\n",
    "    df2 = df[df[\"fingerprint\"] == fingerprint]\n",
    "    \n",
    "    nrepeats = len(df2[\"repeat\"].unique())\n",
    "    \n",
    "    if nrepeats > 1:    \n",
    "        print(f\"Average graph for fingerprint {fingerprint}\")\n",
    "        fig = create_average_plot(df2)\n",
    "        plt.show()\n",
    "        filename = os.path.join(outdir, f\"average_{fingerprint}.pdf\")\n",
    "        print(f\"Saving to file {filename}\")\n",
    "        fig.savefig(filename)\n",
    "    else:\n",
    "        print(f\"No repeats for {fingerprint} so no need to graph an average\")"
   ]
  },
  {
   "cell_type": "code",
   "execution_count": null,
   "metadata": {},
   "outputs": [],
   "source": []
  }
 ],
 "metadata": {
  "kernelspec": {
   "display_name": "Python 3",
   "language": "python",
   "name": "python3"
  },
  "language_info": {
   "codemirror_mode": {
    "name": "ipython",
    "version": 3
   },
   "file_extension": ".py",
   "mimetype": "text/x-python",
   "name": "python",
   "nbconvert_exporter": "python",
   "pygments_lexer": "ipython3",
   "version": "3.7.4"
  }
 },
 "nbformat": 4,
 "nbformat_minor": 2
}